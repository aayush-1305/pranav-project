{
 "cells": [
  {
   "cell_type": "code",
   "execution_count": 1,
   "id": "51c0dbd6-cf9a-4b56-8253-37bbc05e7c86",
   "metadata": {},
   "outputs": [
    {
     "data": {
      "text/plain": [
       "dict"
      ]
     },
     "execution_count": 1,
     "metadata": {},
     "output_type": "execute_result"
    }
   ],
   "source": [
    "d={}\n",
    "type(d)\n"
   ]
  },
  {
   "cell_type": "code",
   "execution_count": 2,
   "id": "e650acf4-8212-4e68-8bc6-8abaa217d818",
   "metadata": {},
   "outputs": [],
   "source": [
    "d1={\"key\":\"pranav\"}"
   ]
  },
  {
   "cell_type": "code",
   "execution_count": 3,
   "id": "3def9801-12a1-4456-a87d-c97b284dca89",
   "metadata": {},
   "outputs": [
    {
     "data": {
      "text/plain": [
       "{'key': 'pranav'}"
      ]
     },
     "execution_count": 3,
     "metadata": {},
     "output_type": "execute_result"
    }
   ],
   "source": [
    "d1"
   ]
  },
  {
   "cell_type": "code",
   "execution_count": 6,
   "id": "83dcfbf3-0a2c-4108-921f-c6b9217c8add",
   "metadata": {},
   "outputs": [],
   "source": [
    "d2={\"name\":\"pranav\",\"email\":\"aayush@gmail.com\",\"number\":\"6269337545\"}"
   ]
  },
  {
   "cell_type": "code",
   "execution_count": 7,
   "id": "6fdfd43b-9ea7-43fa-ade8-df466b9cf5c8",
   "metadata": {},
   "outputs": [
    {
     "data": {
      "text/plain": [
       "{'name': 'pranav', 'email': 'aayush@gmail.com', 'number': '6269337545'}"
      ]
     },
     "execution_count": 7,
     "metadata": {},
     "output_type": "execute_result"
    }
   ],
   "source": [
    "d2"
   ]
  },
  {
   "cell_type": "code",
   "execution_count": 10,
   "id": "4a796dd9-eed2-49bf-814f-bfe93321bfa4",
   "metadata": {},
   "outputs": [],
   "source": [
    "d3={234:\"sudh\"}"
   ]
  },
  {
   "cell_type": "code",
   "execution_count": 11,
   "id": "328c7e40-6b64-455b-ba9b-1297ff3e7db9",
   "metadata": {},
   "outputs": [
    {
     "data": {
      "text/plain": [
       "{234: 'sudh'}"
      ]
     },
     "execution_count": 11,
     "metadata": {},
     "output_type": "execute_result"
    }
   ],
   "source": [
    "d3"
   ]
  },
  {
   "cell_type": "code",
   "execution_count": 12,
   "id": "0acc55fc-be82-4ea4-a729-d7c59eee7051",
   "metadata": {},
   "outputs": [],
   "source": [
    "d4={True:\"pranav\"}"
   ]
  },
  {
   "cell_type": "code",
   "execution_count": 13,
   "id": "8dcffc32-97c8-44b7-8cb2-04833f6fc9f3",
   "metadata": {},
   "outputs": [
    {
     "data": {
      "text/plain": [
       "{True: 'pranav'}"
      ]
     },
     "execution_count": 13,
     "metadata": {},
     "output_type": "execute_result"
    }
   ],
   "source": [
    "d4\n"
   ]
  },
  {
   "cell_type": "code",
   "execution_count": 14,
   "id": "f1e5fabd-7aa1-4981-9de6-c38f195e59b1",
   "metadata": {},
   "outputs": [
    {
     "data": {
      "text/plain": [
       "True"
      ]
     },
     "execution_count": 14,
     "metadata": {},
     "output_type": "execute_result"
    }
   ],
   "source": [
    "True"
   ]
  },
  {
   "cell_type": "code",
   "execution_count": 17,
   "id": "eefdfe9e-fb66-472a-8169-5f81659d8b2c",
   "metadata": {},
   "outputs": [],
   "source": [
    "#how to take out value from dictionary\n",
    "#there is no concept of indexing,we have to use keys\n"
   ]
  },
  {
   "cell_type": "code",
   "execution_count": 19,
   "id": "9655a6b4-0cc9-4986-b113-dbf6af1ff46d",
   "metadata": {},
   "outputs": [
    {
     "data": {
      "text/plain": [
       "'pranav'"
      ]
     },
     "execution_count": 19,
     "metadata": {},
     "output_type": "execute_result"
    }
   ],
   "source": [
    "d4[True]"
   ]
  },
  {
   "cell_type": "code",
   "execution_count": 20,
   "id": "f8bc8283-7836-46d8-be87-1759eaa96471",
   "metadata": {},
   "outputs": [],
   "source": [
    "d5={'name':'pranav','mail_id':'aayu@gmail.com','name':'aayush'}"
   ]
  },
  {
   "cell_type": "code",
   "execution_count": 23,
   "id": "036bbc13-45ec-4407-89dd-e448e0a05181",
   "metadata": {},
   "outputs": [
    {
     "data": {
      "text/plain": [
       "'aayush'"
      ]
     },
     "execution_count": 23,
     "metadata": {},
     "output_type": "execute_result"
    }
   ],
   "source": [
    "d5[\"name\"]"
   ]
  },
  {
   "cell_type": "code",
   "execution_count": 25,
   "id": "707c615d-07c6-426f-ae50-1e4d5721e4d4",
   "metadata": {},
   "outputs": [],
   "source": [
    "#that's why keys shuld be unique else it will overwrite the last given value from first given value\n",
    "#keys can be use multiple times but it would be overwritten by last key's value"
   ]
  },
  {
   "cell_type": "code",
   "execution_count": 26,
   "id": "cff95798-0131-480e-93c0-d4ffc0682862",
   "metadata": {},
   "outputs": [],
   "source": [
    "d6={\"company\":\"pw skils\",\"courses\":[\"data science\",\"ai with ml\",'java']}"
   ]
  },
  {
   "cell_type": "code",
   "execution_count": 27,
   "id": "1b299f13-f098-4c96-9251-09ee87ca74f8",
   "metadata": {},
   "outputs": [
    {
     "data": {
      "text/plain": [
       "{'company': 'pw skils', 'courses': ['data science', 'ai with ml', 'java']}"
      ]
     },
     "execution_count": 27,
     "metadata": {},
     "output_type": "execute_result"
    }
   ],
   "source": [
    "d6"
   ]
  },
  {
   "cell_type": "code",
   "execution_count": 32,
   "id": "968cafd7-13b2-49ad-b955-8649363a43da",
   "metadata": {},
   "outputs": [
    {
     "data": {
      "text/plain": [
       "['data science', 'ai with ml', 'java']"
      ]
     },
     "execution_count": 32,
     "metadata": {},
     "output_type": "execute_result"
    }
   ],
   "source": [
    "d6[\"courses\"]"
   ]
  },
  {
   "cell_type": "code",
   "execution_count": 34,
   "id": "d257e78c-4c4f-4075-9543-8ed6e2e425e0",
   "metadata": {},
   "outputs": [],
   "source": [
    "# we can take out list values of dictionary by this method given below"
   ]
  },
  {
   "cell_type": "code",
   "execution_count": 35,
   "id": "c4ce5a70-06c8-4391-b5e5-4d483925a7f5",
   "metadata": {},
   "outputs": [
    {
     "data": {
      "text/plain": [
       "'ai with ml'"
      ]
     },
     "execution_count": 35,
     "metadata": {},
     "output_type": "execute_result"
    }
   ],
   "source": [
    "d6[\"courses\"][1]\n"
   ]
  },
  {
   "cell_type": "code",
   "execution_count": 36,
   "id": "7205f0f3-b052-43a3-9efb-36646d1c5060",
   "metadata": {},
   "outputs": [],
   "source": [
    "# we can make list,tuples,sets,dictionary inside the dictionary shown below:"
   ]
  },
  {
   "cell_type": "code",
   "execution_count": 40,
   "id": "42d4d30e-db15-4444-8bb9-02f5a1a058cc",
   "metadata": {},
   "outputs": [],
   "source": [
    "d7={'number':[1,2,3,4,5,6,7,8,9],'assignment':(1,4,5,6,9),\"launch_date\":{28,12,14},\"class_time\":{'web_dev':8,'dsa':10,'java':7}}"
   ]
  },
  {
   "cell_type": "code",
   "execution_count": 41,
   "id": "022e55d0-5777-43e7-82dc-31aefa344b16",
   "metadata": {},
   "outputs": [
    {
     "data": {
      "text/plain": [
       "{'number': [1, 2, 3, 4, 5, 6, 7, 8, 9],\n",
       " 'assignment': (1, 4, 5, 6, 9),\n",
       " 'launch_date': {12, 14, 28},\n",
       " 'class_time': {'web_dev': 8, 'dsa': 10, 'java': 7}}"
      ]
     },
     "execution_count": 41,
     "metadata": {},
     "output_type": "execute_result"
    }
   ],
   "source": [
    "d7"
   ]
  },
  {
   "cell_type": "code",
   "execution_count": 44,
   "id": "ae2cd267-0482-48f8-964a-e52fa760b089",
   "metadata": {},
   "outputs": [
    {
     "data": {
      "text/plain": [
       "7"
      ]
     },
     "execution_count": 44,
     "metadata": {},
     "output_type": "execute_result"
    }
   ],
   "source": [
    "d7[\"class_time\"][\"java\"]"
   ]
  },
  {
   "cell_type": "code",
   "execution_count": 45,
   "id": "341b2dde-ba92-40a0-abe0-290f28f8578e",
   "metadata": {},
   "outputs": [],
   "source": [
    "# common mistake : for calling out any value we have to specify name of key uska index daalne se error aajata hai bc"
   ]
  },
  {
   "cell_type": "code",
   "execution_count": 46,
   "id": "d6d9650d-2adf-4e73-b880-8e339f5117a8",
   "metadata": {},
   "outputs": [],
   "source": [
    "#to add key value pair in dictionary"
   ]
  },
  {
   "cell_type": "code",
   "execution_count": 47,
   "id": "8224e4f7-d136-4a95-8ca6-eb8cc637dd3a",
   "metadata": {},
   "outputs": [],
   "source": [
    "d7['mentor']=[\"sudhanshu\",\"pranav\",'aayu']"
   ]
  },
  {
   "cell_type": "code",
   "execution_count": 48,
   "id": "a44bcb51-2c84-47da-a73d-7f41eb7806eb",
   "metadata": {},
   "outputs": [
    {
     "data": {
      "text/plain": [
       "{'number': [1, 2, 3, 4, 5, 6, 7, 8, 9],\n",
       " 'assignment': (1, 4, 5, 6, 9),\n",
       " 'launch_date': {12, 14, 28},\n",
       " 'class_time': {'web_dev': 8, 'dsa': 10, 'java': 7},\n",
       " 'mentor': ['sudhanshu', 'pranav', 'aayu']}"
      ]
     },
     "execution_count": 48,
     "metadata": {},
     "output_type": "execute_result"
    }
   ],
   "source": [
    "d7"
   ]
  },
  {
   "cell_type": "code",
   "execution_count": 49,
   "id": "65ee1e85-5c48-47bc-8cd0-9925fbd2fbff",
   "metadata": {},
   "outputs": [],
   "source": [
    "# if by following above method we by mistake enterd key that exists in dictionary then it will be updatetd "
   ]
  },
  {
   "cell_type": "code",
   "execution_count": 50,
   "id": "d35a5b7b-49f6-49e8-bc66-4eae2802b98d",
   "metadata": {},
   "outputs": [],
   "source": [
    "#delete key value pair"
   ]
  },
  {
   "cell_type": "code",
   "execution_count": 51,
   "id": "20d7cbd2-4170-4fed-a459-2d5bd68f3b3d",
   "metadata": {},
   "outputs": [],
   "source": [
    "del d7['mentor']"
   ]
  },
  {
   "cell_type": "code",
   "execution_count": 52,
   "id": "18fbec69-d698-4581-91aa-2c5a8a7d77eb",
   "metadata": {},
   "outputs": [
    {
     "data": {
      "text/plain": [
       "{'number': [1, 2, 3, 4, 5, 6, 7, 8, 9],\n",
       " 'assignment': (1, 4, 5, 6, 9),\n",
       " 'launch_date': {12, 14, 28},\n",
       " 'class_time': {'web_dev': 8, 'dsa': 10, 'java': 7}}"
      ]
     },
     "execution_count": 52,
     "metadata": {},
     "output_type": "execute_result"
    }
   ],
   "source": [
    "d7"
   ]
  },
  {
   "cell_type": "code",
   "execution_count": 53,
   "id": "1ffc25ee-af4b-4395-a936-831af7b75c47",
   "metadata": {},
   "outputs": [
    {
     "data": {
      "text/plain": [
       "dict_keys(['number', 'assignment', 'launch_date', 'class_time'])"
      ]
     },
     "execution_count": 53,
     "metadata": {},
     "output_type": "execute_result"
    }
   ],
   "source": [
    "d7.keys()"
   ]
  },
  {
   "cell_type": "code",
   "execution_count": 54,
   "id": "1721bc88-5475-4e90-8717-71d4e5100055",
   "metadata": {},
   "outputs": [],
   "source": [
    "# to convert above into list format\n"
   ]
  },
  {
   "cell_type": "code",
   "execution_count": 55,
   "id": "da3f7e24-a685-4901-aa46-089c36e843d0",
   "metadata": {},
   "outputs": [
    {
     "data": {
      "text/plain": [
       "['number', 'assignment', 'launch_date', 'class_time']"
      ]
     },
     "execution_count": 55,
     "metadata": {},
     "output_type": "execute_result"
    }
   ],
   "source": [
    "list(d7.keys())"
   ]
  },
  {
   "cell_type": "code",
   "execution_count": 56,
   "id": "58cc3864-1173-4765-8056-03012d2d9a78",
   "metadata": {},
   "outputs": [
    {
     "data": {
      "text/plain": [
       "dict_values([[1, 2, 3, 4, 5, 6, 7, 8, 9], (1, 4, 5, 6, 9), {28, 12, 14}, {'web_dev': 8, 'dsa': 10, 'java': 7}])"
      ]
     },
     "execution_count": 56,
     "metadata": {},
     "output_type": "execute_result"
    }
   ],
   "source": [
    "d7.values()"
   ]
  },
  {
   "cell_type": "code",
   "execution_count": 62,
   "id": "9de86a8b-8f4f-40b5-8c50-71b928032ef2",
   "metadata": {},
   "outputs": [
    {
     "data": {
      "text/plain": [
       "[[1, 2, 3, 4, 5, 6, 7, 8, 9],\n",
       " (1, 4, 5, 6, 9),\n",
       " {12, 14, 28},\n",
       " {'web_dev': 8, 'dsa': 10, 'java': 7}]"
      ]
     },
     "execution_count": 62,
     "metadata": {},
     "output_type": "execute_result"
    }
   ],
   "source": [
    "list(d7.values())"
   ]
  },
  {
   "cell_type": "code",
   "execution_count": 58,
   "id": "ee8e3f42-b912-4502-89dc-3bc7ae74d725",
   "metadata": {},
   "outputs": [],
   "source": [
    "# to get key value pair "
   ]
  },
  {
   "cell_type": "code",
   "execution_count": 59,
   "id": "22d0a1fd-f2d1-4b49-9d3c-ae42cc9180af",
   "metadata": {},
   "outputs": [
    {
     "data": {
      "text/plain": [
       "dict_items([('number', [1, 2, 3, 4, 5, 6, 7, 8, 9]), ('assignment', (1, 4, 5, 6, 9)), ('launch_date', {28, 12, 14}), ('class_time', {'web_dev': 8, 'dsa': 10, 'java': 7})])"
      ]
     },
     "execution_count": 59,
     "metadata": {},
     "output_type": "execute_result"
    }
   ],
   "source": [
    "d7.items()"
   ]
  },
  {
   "cell_type": "code",
   "execution_count": 60,
   "id": "1e947fe8-2b59-4478-84d4-9817c14cdc12",
   "metadata": {},
   "outputs": [],
   "source": [
    "#to convert above key value pair into list"
   ]
  },
  {
   "cell_type": "code",
   "execution_count": 63,
   "id": "26d308f9-f9ba-4325-8dad-cb0911b7e1ac",
   "metadata": {},
   "outputs": [
    {
     "data": {
      "text/plain": [
       "[('number', [1, 2, 3, 4, 5, 6, 7, 8, 9]),\n",
       " ('assignment', (1, 4, 5, 6, 9)),\n",
       " ('launch_date', {12, 14, 28}),\n",
       " ('class_time', {'web_dev': 8, 'dsa': 10, 'java': 7})]"
      ]
     },
     "execution_count": 63,
     "metadata": {},
     "output_type": "execute_result"
    }
   ],
   "source": [
    "list(d7.items())"
   ]
  },
  {
   "cell_type": "code",
   "execution_count": 65,
   "id": "e0c3994a-2250-4ef4-a6ad-034dbe711129",
   "metadata": {},
   "outputs": [],
   "source": [
    "#pop functn"
   ]
  },
  {
   "cell_type": "code",
   "execution_count": null,
   "id": "97c0811c-5bbb-457d-847c-71de144ef2a3",
   "metadata": {},
   "outputs": [],
   "source": []
  },
  {
   "cell_type": "code",
   "execution_count": null,
   "id": "41f278f3-fd7c-49b7-9e77-5bb51bbfaac2",
   "metadata": {},
   "outputs": [],
   "source": []
  }
 ],
 "metadata": {
  "kernelspec": {
   "display_name": "Python 3 (ipykernel)",
   "language": "python",
   "name": "python3"
  },
  "language_info": {
   "codemirror_mode": {
    "name": "ipython",
    "version": 3
   },
   "file_extension": ".py",
   "mimetype": "text/x-python",
   "name": "python",
   "nbconvert_exporter": "python",
   "pygments_lexer": "ipython3",
   "version": "3.10.8"
  }
 },
 "nbformat": 4,
 "nbformat_minor": 5
}
